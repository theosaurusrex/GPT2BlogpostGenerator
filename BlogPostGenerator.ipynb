{
 "cells": [
  {
   "cell_type": "markdown",
   "id": "4b18c660",
   "metadata": {},
   "source": [
    "<h1>Install and dependencies</H1> \n",
    "<a href=\"url\">https://www.youtube.com/watch?v=cHymMt1SQn8</a>"
   ]
  },
  {
   "cell_type": "code",
   "execution_count": 1,
   "id": "47bc82ec",
   "metadata": {},
   "outputs": [
    {
     "name": "stdout",
     "output_type": "stream",
     "text": [
      "Collecting package metadata (current_repodata.json): done\n",
      "Solving environment: done\n",
      "\n",
      "\n",
      "==> WARNING: A newer version of conda exists. <==\n",
      "  current version: 4.10.3\n",
      "  latest version: 23.1.0\n",
      "\n",
      "Please update conda by running\n",
      "\n",
      "    $ conda update -n base -c defaults conda\n",
      "\n",
      "\n",
      "\n",
      "## Package Plan ##\n",
      "\n",
      "  environment location: /Users/theodorehoward/opt/anaconda3\n",
      "\n",
      "  added / updated specs:\n",
      "    - pytorch\n",
      "    - torchaudio\n",
      "    - torchvision\n",
      "\n",
      "\n",
      "The following packages will be downloaded:\n",
      "\n",
      "    package                    |            build\n",
      "    ---------------------------|-----------------\n",
      "    pytorch-1.13.1             |          py3.8_0        71.9 MB  pytorch\n",
      "    torchaudio-0.13.1          |         py38_cpu         5.7 MB  pytorch\n",
      "    torchvision-0.2.2          |             py_3          44 KB  pytorch\n",
      "    ------------------------------------------------------------\n",
      "                                           Total:        77.6 MB\n",
      "\n",
      "The following NEW packages will be INSTALLED:\n",
      "\n",
      "  pytorch            pytorch/osx-64::pytorch-1.13.1-py3.8_0\n",
      "  torchaudio         pytorch/osx-64::torchaudio-0.13.1-py38_cpu\n",
      "  torchvision        pytorch/noarch::torchvision-0.2.2-py_3\n",
      "\n",
      "\n",
      "\n",
      "Downloading and Extracting Packages\n",
      "pytorch-1.13.1       | 71.9 MB   | ##################################### | 100% \n",
      "torchvision-0.2.2    | 44 KB     | ##################################### | 100% \n",
      "torchaudio-0.13.1    | 5.7 MB    | ##################################### | 100% \n",
      "Preparing transaction: done\n",
      "Verifying transaction: done\n",
      "Executing transaction: done\n",
      "\n",
      "Note: you may need to restart the kernel to use updated packages.\n"
     ]
    }
   ],
   "source": [
    "conda install pytorch torchvision torchaudio -c pytorch\n"
   ]
  },
  {
   "cell_type": "code",
   "execution_count": 2,
   "id": "487edab8",
   "metadata": {
    "scrolled": false
   },
   "outputs": [],
   "source": [
    "# !pip install pytorch\n",
    "# !pip install transformers"
   ]
  },
  {
   "cell_type": "code",
   "execution_count": 5,
   "id": "ba3d8003",
   "metadata": {},
   "outputs": [],
   "source": [
    "from transformers import GPT2LMHeadModel, GPT2Tokenizer"
   ]
  },
  {
   "cell_type": "markdown",
   "id": "7ec49fac",
   "metadata": {},
   "source": [
    "<h1>Load Model</h1>"
   ]
  },
  {
   "cell_type": "code",
   "execution_count": 4,
   "id": "6f9c741f",
   "metadata": {},
   "outputs": [
    {
     "data": {
      "application/vnd.jupyter.widget-view+json": {
       "model_id": "b48e6002f6d74f43b0f258e9ac1567ff",
       "version_major": 2,
       "version_minor": 0
      },
      "text/plain": [
       "Downloading (…)\"pytorch_model.bin\";:   0%|          | 0.00/3.25G [00:00<?, ?B/s]"
      ]
     },
     "metadata": {},
     "output_type": "display_data"
    },
    {
     "data": {
      "application/vnd.jupyter.widget-view+json": {
       "model_id": "65a8dff98f1945a29fe15740bb7916da",
       "version_major": 2,
       "version_minor": 0
      },
      "text/plain": [
       "Downloading (…)neration_config.json:   0%|          | 0.00/124 [00:00<?, ?B/s]"
      ]
     },
     "metadata": {},
     "output_type": "display_data"
    }
   ],
   "source": [
    "tokenizer = GPT2Tokenizer.from_pretrained('GPT2-large')\n",
    "model = GPT2LMHeadModel.from_pretrained('GPT2-large',pad_token_id=tokenizer.eos_token_id)"
   ]
  },
  {
   "cell_type": "markdown",
   "id": "c24d6bb0",
   "metadata": {},
   "source": [
    "<H1>Tokenize sentances</h1>"
   ]
  },
  {
   "cell_type": "code",
   "execution_count": 6,
   "id": "95b9cdaf",
   "metadata": {},
   "outputs": [],
   "source": [
    "sentance = \"I like icecream\"\n",
    "input_ids = tokenizer.encode(sentance, return_tensors='pt')"
   ]
  },
  {
   "cell_type": "code",
   "execution_count": 7,
   "id": "52a1a435",
   "metadata": {},
   "outputs": [
    {
     "data": {
      "text/plain": [
       "'I'"
      ]
     },
     "execution_count": 7,
     "metadata": {},
     "output_type": "execute_result"
    }
   ],
   "source": [
    "tokenizer.decode(input_ids[0][0])"
   ]
  },
  {
   "cell_type": "markdown",
   "id": "b826f6be",
   "metadata": {},
   "source": [
    "<h1>Generate and decode</h1>"
   ]
  },
  {
   "cell_type": "code",
   "execution_count": 9,
   "id": "5a46025a",
   "metadata": {},
   "outputs": [],
   "source": [
    "output = model.generate(input_ids,max_length=100,num_beams=5,no_repeat_ngram_size = 2,early_stopping=True)"
   ]
  },
  {
   "cell_type": "code",
   "execution_count": 10,
   "id": "5e2aaf18",
   "metadata": {},
   "outputs": [
    {
     "data": {
      "text/plain": [
       "tensor([[   40,   588,  4771, 36277,    11,   475,   314,   836,   470,   588,\n",
       "           340,   618,   340,   338,  1165,  6029,   553,   673,   531,    13,\n",
       "           198,   198,     1,    40,  1101,   407,   257,  1263,  4336,   286,\n",
       "          4771,  8566,    13,   314,   892,   340,   815,   307,   257,  1310,\n",
       "          1643,  3490,  2357,   526, 50256]])"
      ]
     },
     "execution_count": 10,
     "metadata": {},
     "output_type": "execute_result"
    }
   ],
   "source": [
    "output"
   ]
  },
  {
   "cell_type": "code",
   "execution_count": 11,
   "id": "9fbdda9e",
   "metadata": {},
   "outputs": [
    {
     "data": {
      "text/plain": [
       "'I like icecream, but I don\\'t like it when it\\'s too sweet,\" she said.\\n\\n\"I\\'m not a big fan of ice cream. I think it should be a little bit sweeter.\"'"
      ]
     },
     "execution_count": 11,
     "metadata": {},
     "output_type": "execute_result"
    }
   ],
   "source": [
    "tokenizer.decode(output[0], skip_special_tokens=True)"
   ]
  },
  {
   "cell_type": "markdown",
   "id": "11b59f6d",
   "metadata": {},
   "source": [
    "<h1>Output</h1>"
   ]
  },
  {
   "cell_type": "code",
   "execution_count": 12,
   "id": "cd089a1a",
   "metadata": {},
   "outputs": [],
   "source": [
    "text = tokenizer.decode(output[0], skip_special_tokens=True)"
   ]
  },
  {
   "cell_type": "code",
   "execution_count": 14,
   "id": "8c245354",
   "metadata": {},
   "outputs": [],
   "source": [
    "with open('icecreamBlog.txt','w') as f:\n",
    "    f.write(text)"
   ]
  },
  {
   "cell_type": "code",
   "execution_count": null,
   "id": "67d886bc",
   "metadata": {},
   "outputs": [],
   "source": []
  }
 ],
 "metadata": {
  "kernelspec": {
   "display_name": "Python 3",
   "language": "python",
   "name": "python3"
  },
  "language_info": {
   "codemirror_mode": {
    "name": "ipython",
    "version": 3
   },
   "file_extension": ".py",
   "mimetype": "text/x-python",
   "name": "python",
   "nbconvert_exporter": "python",
   "pygments_lexer": "ipython3",
   "version": "3.8.8"
  }
 },
 "nbformat": 4,
 "nbformat_minor": 5
}
